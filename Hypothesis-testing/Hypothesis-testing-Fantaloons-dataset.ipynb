{
 "cells": [
  {
   "cell_type": "markdown",
   "id": "87e3d2d4",
   "metadata": {},
   "source": [
    "# H"
   ]
  },
  {
   "cell_type": "raw",
   "id": "2e4d92d5",
   "metadata": {},
   "source": [
    "Problem Statement:\n",
    "\n",
    "Fantaloons Sales managers commented that % of males versus females walking into the store differ based on day of the week. Analyze the data and determine whether there is evidence at 5 % significance level to support this hypothesis. "
   ]
  },
  {
   "cell_type": "raw",
   "id": "f3476e36",
   "metadata": {},
   "source": [
    "## Business Problem:\n",
    "\n",
    "Fantaloons, a retail clothing store, aims to optimize its operations and marketing strategies to better serve its customers. The sales managers have observed a potential difference in the proportion of males versus females visiting the store based on the day of the week. Understanding these patterns can help Fantaloons tailor their marketing efforts, adjust staffing levels, and enhance the overall customer experience.\n",
    "\n",
    "## Objectives:\n",
    "\n",
    "-> Determine if there is a statistically significant difference in the proportion of males versus females visiting Fantaloons based on the day of the week.\n",
    "\n",
    "-> Provide insights into the demographics of customers visiting the store on different days.\n",
    "\n",
    "-> Identify potential opportunities to adjust marketing strategies or staffing levels to better serve the customer base.\n",
    "\n",
    "-> Enhance customer experience and satisfaction by catering to the observed demographic trends.\n",
    "\n",
    "## Constraints:\n",
    "\n",
    "1. Data Availability: Availability of accurate and reliable data on the number of male and female customers visiting the store each day of the week.\n",
    "\n",
    "2. Statistical Significance: Ensure that any findings are statistically significant at the chosen significance level (e.g., 5%) to make informed decisions.\n",
    "\n",
    "3. Privacy and Ethics: Respect customer privacy and adhere to ethical guidelines when collecting and analyzing customer data.\n",
    "\n",
    "4. Resource Limitations: Consider constraints related to budget, staffing, and other resources when implementing changes based on the findings."
   ]
  },
  {
   "cell_type": "raw",
   "id": "ac9fc914",
   "metadata": {},
   "source": [
    "** Null Hypothesis (H0): There is no difference in the proportion of males versus females visiting the store based on the day of the week.\n",
    "\n",
    "** Alternative Hypothesis (H1): There is a difference in the proportion of males versus females visiting the store based on the day of the week."
   ]
  },
  {
   "cell_type": "code",
   "execution_count": 1,
   "id": "45c6afb4",
   "metadata": {},
   "outputs": [],
   "source": [
    "import pandas as pd\n",
    "import numpy as np\n",
    "import seaborn as sns\n",
    "import matplotlib.pyplot as plt\n",
    "import scipy\n",
    "from scipy import stats\n",
    "import warnings\n",
    "warnings.filterwarnings(\"ignore\")"
   ]
  },
  {
   "cell_type": "code",
   "execution_count": 2,
   "id": "425b335f",
   "metadata": {},
   "outputs": [
    {
     "data": {
      "text/html": [
       "<div>\n",
       "<style scoped>\n",
       "    .dataframe tbody tr th:only-of-type {\n",
       "        vertical-align: middle;\n",
       "    }\n",
       "\n",
       "    .dataframe tbody tr th {\n",
       "        vertical-align: top;\n",
       "    }\n",
       "\n",
       "    .dataframe thead th {\n",
       "        text-align: right;\n",
       "    }\n",
       "</style>\n",
       "<table border=\"1\" class=\"dataframe\">\n",
       "  <thead>\n",
       "    <tr style=\"text-align: right;\">\n",
       "      <th></th>\n",
       "      <th>Weekdays</th>\n",
       "      <th>Weekend</th>\n",
       "    </tr>\n",
       "  </thead>\n",
       "  <tbody>\n",
       "    <tr>\n",
       "      <th>0</th>\n",
       "      <td>Male</td>\n",
       "      <td>Female</td>\n",
       "    </tr>\n",
       "    <tr>\n",
       "      <th>1</th>\n",
       "      <td>Female</td>\n",
       "      <td>Male</td>\n",
       "    </tr>\n",
       "    <tr>\n",
       "      <th>2</th>\n",
       "      <td>Female</td>\n",
       "      <td>Male</td>\n",
       "    </tr>\n",
       "    <tr>\n",
       "      <th>3</th>\n",
       "      <td>Male</td>\n",
       "      <td>Female</td>\n",
       "    </tr>\n",
       "    <tr>\n",
       "      <th>4</th>\n",
       "      <td>Female</td>\n",
       "      <td>Female</td>\n",
       "    </tr>\n",
       "  </tbody>\n",
       "</table>\n",
       "</div>"
      ],
      "text/plain": [
       "  Weekdays Weekend\n",
       "0     Male  Female\n",
       "1   Female    Male\n",
       "2   Female    Male\n",
       "3     Male  Female\n",
       "4   Female  Female"
      ]
     },
     "execution_count": 2,
     "metadata": {},
     "output_type": "execute_result"
    }
   ],
   "source": [
    "df=pd.read_csv(\"C:\\\\Users\\\\delll\\\\Desktop\\\\Python\\\\DataSets\\\\Fantaloons.xls\")\n",
    "df.head()"
   ]
  },
  {
   "cell_type": "code",
   "execution_count": 3,
   "id": "b502b7a4",
   "metadata": {},
   "outputs": [
    {
     "data": {
      "text/plain": [
       "(425, 2)"
      ]
     },
     "execution_count": 3,
     "metadata": {},
     "output_type": "execute_result"
    }
   ],
   "source": [
    "df.shape\n",
    "# rows=425 and col=2"
   ]
  },
  {
   "cell_type": "code",
   "execution_count": 4,
   "id": "bfb501a4",
   "metadata": {},
   "outputs": [
    {
     "data": {
      "text/plain": [
       "Index(['Weekdays', 'Weekend'], dtype='object')"
      ]
     },
     "execution_count": 4,
     "metadata": {},
     "output_type": "execute_result"
    }
   ],
   "source": [
    "df.columns"
   ]
  },
  {
   "cell_type": "code",
   "execution_count": 5,
   "id": "5bb7c325",
   "metadata": {},
   "outputs": [
    {
     "data": {
      "text/plain": [
       "Weekdays    object\n",
       "Weekend     object\n",
       "dtype: object"
      ]
     },
     "execution_count": 5,
     "metadata": {},
     "output_type": "execute_result"
    }
   ],
   "source": [
    "df.dtypes\n",
    "# both are object types"
   ]
  },
  {
   "cell_type": "code",
   "execution_count": 6,
   "id": "56423611",
   "metadata": {},
   "outputs": [
    {
     "name": "stdout",
     "output_type": "stream",
     "text": [
      "<class 'pandas.core.frame.DataFrame'>\n",
      "RangeIndex: 425 entries, 0 to 424\n",
      "Data columns (total 2 columns):\n",
      " #   Column    Non-Null Count  Dtype \n",
      "---  ------    --------------  ----- \n",
      " 0   Weekdays  400 non-null    object\n",
      " 1   Weekend   400 non-null    object\n",
      "dtypes: object(2)\n",
      "memory usage: 6.8+ KB\n"
     ]
    }
   ],
   "source": [
    "df.info()"
   ]
  },
  {
   "cell_type": "code",
   "execution_count": 7,
   "id": "94bde9bf",
   "metadata": {},
   "outputs": [
    {
     "data": {
      "text/plain": [
       "Weekdays    25\n",
       "Weekend     25\n",
       "dtype: int64"
      ]
     },
     "execution_count": 7,
     "metadata": {},
     "output_type": "execute_result"
    }
   ],
   "source": [
    "df.isnull().sum()"
   ]
  },
  {
   "cell_type": "code",
   "execution_count": 8,
   "id": "89f27d1e",
   "metadata": {},
   "outputs": [],
   "source": [
    "# there are 25 null values are present in each columns\n",
    "# simply drop the records"
   ]
  },
  {
   "cell_type": "code",
   "execution_count": 9,
   "id": "6416d78b",
   "metadata": {},
   "outputs": [],
   "source": [
    "df.dropna(inplace=True)"
   ]
  },
  {
   "cell_type": "code",
   "execution_count": 10,
   "id": "07457dbe",
   "metadata": {},
   "outputs": [
    {
     "data": {
      "text/plain": [
       "Weekdays    0\n",
       "Weekend     0\n",
       "dtype: int64"
      ]
     },
     "execution_count": 10,
     "metadata": {},
     "output_type": "execute_result"
    }
   ],
   "source": [
    "df.isnull().sum()\n",
    "# null values are removed"
   ]
  },
  {
   "cell_type": "code",
   "execution_count": 11,
   "id": "33d34cad",
   "metadata": {},
   "outputs": [
    {
     "data": {
      "text/html": [
       "<div>\n",
       "<style scoped>\n",
       "    .dataframe tbody tr th:only-of-type {\n",
       "        vertical-align: middle;\n",
       "    }\n",
       "\n",
       "    .dataframe tbody tr th {\n",
       "        vertical-align: top;\n",
       "    }\n",
       "\n",
       "    .dataframe thead th {\n",
       "        text-align: right;\n",
       "    }\n",
       "</style>\n",
       "<table border=\"1\" class=\"dataframe\">\n",
       "  <thead>\n",
       "    <tr style=\"text-align: right;\">\n",
       "      <th></th>\n",
       "      <th>Weekdays</th>\n",
       "      <th>Weekend</th>\n",
       "    </tr>\n",
       "  </thead>\n",
       "  <tbody>\n",
       "    <tr>\n",
       "      <th>count</th>\n",
       "      <td>400</td>\n",
       "      <td>400</td>\n",
       "    </tr>\n",
       "    <tr>\n",
       "      <th>unique</th>\n",
       "      <td>2</td>\n",
       "      <td>2</td>\n",
       "    </tr>\n",
       "    <tr>\n",
       "      <th>top</th>\n",
       "      <td>Female</td>\n",
       "      <td>Female</td>\n",
       "    </tr>\n",
       "    <tr>\n",
       "      <th>freq</th>\n",
       "      <td>287</td>\n",
       "      <td>233</td>\n",
       "    </tr>\n",
       "  </tbody>\n",
       "</table>\n",
       "</div>"
      ],
      "text/plain": [
       "       Weekdays Weekend\n",
       "count       400     400\n",
       "unique        2       2\n",
       "top      Female  Female\n",
       "freq        287     233"
      ]
     },
     "execution_count": 11,
     "metadata": {},
     "output_type": "execute_result"
    }
   ],
   "source": [
    "df.describe()"
   ]
  },
  {
   "cell_type": "code",
   "execution_count": 12,
   "id": "5588486d",
   "metadata": {},
   "outputs": [
    {
     "name": "stdout",
     "output_type": "stream",
     "text": [
      "Female    287\n",
      "Male      113\n",
      "Name: Weekdays, dtype: int64\n"
     ]
    },
    {
     "data": {
      "image/png": "[encoded data removed]",
      "text/plain": [
       "<Figure size 640x480 with 1 Axes>"
      ]
     },
     "metadata": {},
     "output_type": "display_data"
    }
   ],
   "source": [
    "print(df.Weekdays.value_counts())\n",
    "sns.countplot(x=df[\"Weekdays\"])\n",
    "plt.show()"
   ]
  },
  {
   "cell_type": "code",
   "execution_count": 13,
   "id": "e7ded071",
   "metadata": {},
   "outputs": [
    {
     "name": "stdout",
     "output_type": "stream",
     "text": [
      "Female    233\n",
      "Male      167\n",
      "Name: Weekend, dtype: int64\n"
     ]
    },
    {
     "data": {
      "image/png": "[encoded data removed]",
      "text/plain": [
       "<Figure size 640x480 with 1 Axes>"
      ]
     },
     "metadata": {},
     "output_type": "display_data"
    }
   ],
   "source": [
    "print(df.Weekend.value_counts())\n",
    "sns.countplot(x=df[\"Weekend\"])\n",
    "plt.show()"
   ]
  },
  {
   "cell_type": "code",
   "execution_count": 14,
   "id": "32cf6290",
   "metadata": {},
   "outputs": [],
   "source": [
    "#Here input data is dicreate and output is also discrete\n",
    "#samples are more than 2,hence chi_square test need to be applied"
   ]
  },
  {
   "cell_type": "code",
   "execution_count": 15,
   "id": "3d5fb706",
   "metadata": {},
   "outputs": [
    {
     "data": {
      "text/plain": [
       "array([[287, 233],\n",
       "       [113, 167]])"
      ]
     },
     "execution_count": 15,
     "metadata": {},
     "output_type": "execute_result"
    }
   ],
   "source": [
    "# Make a contingency table\n",
    "table=np.array([[287,233],[113,167]])\n",
    "table"
   ]
  },
  {
   "cell_type": "code",
   "execution_count": 16,
   "id": "d5763034",
   "metadata": {},
   "outputs": [
    {
     "name": "stdout",
     "output_type": "stream",
     "text": [
      "p value is 8.54342267020237e-05\n",
      "Dependent (reject H0)\n"
     ]
    }
   ],
   "source": [
    "from scipy.stats import chi2_contingency\n",
    "\n",
    "stat, p, dof, expected = chi2_contingency(table)\n",
    " \n",
    "# interpret p-value\n",
    "alpha = 0.05\n",
    "print(\"p value is \" + str(p))\n",
    "if p <= alpha:\n",
    "    print('Reject H0')\n",
    "else:\n",
    "    print('H0 holds true')"
   ]
  },
  {
   "cell_type": "markdown",
   "id": "b5891bba",
   "metadata": {},
   "source": [
    "### Conclusion:"
   ]
  },
  {
   "cell_type": "raw",
   "id": "0d7c0b77",
   "metadata": {},
   "source": [
    "# p-val:8.54e-05 < 0.05\n",
    "\n",
    "# so , We are fail to reject the null hypothesis:There is no difference in the proportion of males versus females visiting the store based on the day of the week.\n",
    "\n",
    "# Decision:There is a difference in the proportion of males versus females visiting the store based on the day of the week."
   ]
  }
 ],
 "metadata": {
  "kernelspec": {
   "display_name": "Python 3 (ipykernel)",
   "language": "python",
   "name": "python3"
  },
  "language_info": {
   "codemirror_mode": {
    "name": "ipython",
    "version": 3
   },
   "file_extension": ".py",
   "mimetype": "text/x-python",
   "name": "python",
   "nbconvert_exporter": "python",
   "pygments_lexer": "ipython3",
   "version": "3.10.9"
  }
 },
 "nbformat": 4,
 "nbformat_minor": 5
}
