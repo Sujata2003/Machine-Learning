{
 "cells": [
  {
   "cell_type": "markdown",
   "id": "35663c8a",
   "metadata": {},
   "source": [
    "# Simple Linear Regression- Delivery time dataset"
   ]
  },
  {
   "cell_type": "raw",
   "id": "dfefde9f",
   "metadata": {},
   "source": [
    "Problem Statement:\n",
    "    \n",
    "A logistics company recorded the time taken for delivery and the time taken for the sorting of the items for delivery. Build a Simple Linear Regression model to find the relationship between delivery time and sorting time with delivery time as the target variable. Apply necessary transformations and record the RMSE and correlation coefficient values for different models."
   ]
  },
  {
   "cell_type": "raw",
   "id": "44a2bcb8",
   "metadata": {},
   "source": [
    "** Business Problem:\n",
    "\n",
    "A logistics company aims to optimize its delivery process by understanding the relationship between sorting time and delivery time. They want to build a predictive model to estimate delivery time based on sorting time, allowing them to improve efficiency and meet customer expectations.\n",
    "\n",
    "** Objectives:\n",
    "\n",
    "1. To Develop a Simple Linear Regression model to predict delivery time using sorting time as the predictor variable.\n",
    "\n",
    "2. To Minimize delivery delays and optimize the logistics process by accurately estimating delivery times.\n",
    "\n",
    "3. To Provide actionable insights to streamline operations and allocate resources effectively based on sorting time.\n",
    "\n",
    "** Constraints:\n",
    "\n",
    "1. Limited availability of historical data for model training.\n",
    "\n",
    "2. The model's predictions should be interpretable and easily understandable for stakeholders.\n",
    "\n",
    "3. Timely delivery is critical, so the model's accuracy must be high to avoid potential customer dissatisfaction.\n",
    "\n",
    "4. The company may face resource constraints, so the model should be cost-effective to implement and maintain.\n",
    "\n",
    "5. The model should handle variations in delivery routes, package sizes, and other factors that may affect delivery time."
   ]
  },
  {
   "cell_type": "code",
   "execution_count": 1,
   "id": "9b3b7dbb",
   "metadata": {},
   "outputs": [],
   "source": [
    "import pandas as pd\n",
    "import numpy as np\n",
    "import matplotlib.pyplot as plt\n",
    "import seaborn as sns\n",
    "import warnings\n",
    "warnings.filterwarnings(\"ignore\")"
   ]
  },
  {
   "cell_type": "code",
   "execution_count": 2,
   "id": "145ba93c",
   "metadata": {},
   "outputs": [
    {
     "data": {
      "text/html": [
       "<div>\n",
       "<style scoped>\n",
       "    .dataframe tbody tr th:only-of-type {\n",
       "        vertical-align: middle;\n",
       "    }\n",
       "\n",
       "    .dataframe tbody tr th {\n",
       "        vertical-align: top;\n",
       "    }\n",
       "\n",
       "    .dataframe thead th {\n",
       "        text-align: right;\n",
       "    }\n",
       "</style>\n",
       "<table border=\"1\" class=\"dataframe\">\n",
       "  <thead>\n",
       "    <tr style=\"text-align: right;\">\n",
       "      <th></th>\n",
       "      <th>Delivery Time</th>\n",
       "      <th>Sorting Time</th>\n",
       "    </tr>\n",
       "  </thead>\n",
       "  <tbody>\n",
       "    <tr>\n",
       "      <th>0</th>\n",
       "      <td>21.00</td>\n",
       "      <td>10</td>\n",
       "    </tr>\n",
       "    <tr>\n",
       "      <th>1</th>\n",
       "      <td>13.50</td>\n",
       "      <td>4</td>\n",
       "    </tr>\n",
       "    <tr>\n",
       "      <th>2</th>\n",
       "      <td>19.75</td>\n",
       "      <td>6</td>\n",
       "    </tr>\n",
       "    <tr>\n",
       "      <th>3</th>\n",
       "      <td>24.00</td>\n",
       "      <td>9</td>\n",
       "    </tr>\n",
       "    <tr>\n",
       "      <th>4</th>\n",
       "      <td>29.00</td>\n",
       "      <td>10</td>\n",
       "    </tr>\n",
       "  </tbody>\n",
       "</table>\n",
       "</div>"
      ],
      "text/plain": [
       "   Delivery Time  Sorting Time\n",
       "0          21.00            10\n",
       "1          13.50             4\n",
       "2          19.75             6\n",
       "3          24.00             9\n",
       "4          29.00            10"
      ]
     },
     "execution_count": 2,
     "metadata": {},
     "output_type": "execute_result"
    }
   ],
   "source": [
    "df=pd.read_csv(\"C:\\\\Users\\\\delll\\\\Desktop\\\\Python\\\\DataSets\\\\delivery_time.csv\")\n",
    "df.head()"
   ]
  },
  {
   "cell_type": "code",
   "execution_count": 20,
   "id": "1e3f71ee",
   "metadata": {},
   "outputs": [],
   "source": [
    "df.columns=\"Delivery_Time\",\"Sorting_Time\""
   ]
  },
  {
   "cell_type": "code",
   "execution_count": 21,
   "id": "4b1b036b",
   "metadata": {},
   "outputs": [
    {
     "data": {
      "text/plain": [
       "(21, 2)"
      ]
     },
     "execution_count": 21,
     "metadata": {},
     "output_type": "execute_result"
    }
   ],
   "source": [
    "df.shape"
   ]
  },
  {
   "cell_type": "code",
   "execution_count": 22,
   "id": "80128f19",
   "metadata": {},
   "outputs": [
    {
     "data": {
      "text/plain": [
       "Delivery_Time    float64\n",
       "Sorting_Time       int64\n",
       "dtype: object"
      ]
     },
     "execution_count": 22,
     "metadata": {},
     "output_type": "execute_result"
    }
   ],
   "source": [
    "df.dtypes"
   ]
  },
  {
   "cell_type": "code",
   "execution_count": 23,
   "id": "04d57ac6",
   "metadata": {},
   "outputs": [
    {
     "name": "stdout",
     "output_type": "stream",
     "text": [
      "<class 'pandas.core.frame.DataFrame'>\n",
      "RangeIndex: 21 entries, 0 to 20\n",
      "Data columns (total 2 columns):\n",
      " #   Column         Non-Null Count  Dtype  \n",
      "---  ------         --------------  -----  \n",
      " 0   Delivery_Time  21 non-null     float64\n",
      " 1   Sorting_Time   21 non-null     int64  \n",
      "dtypes: float64(1), int64(1)\n",
      "memory usage: 464.0 bytes\n"
     ]
    }
   ],
   "source": [
    "df.info()"
   ]
  },
  {
   "cell_type": "code",
   "execution_count": 24,
   "id": "b935c1cd",
   "metadata": {},
   "outputs": [
    {
     "data": {
      "text/html": [
       "<div>\n",
       "<style scoped>\n",
       "    .dataframe tbody tr th:only-of-type {\n",
       "        vertical-align: middle;\n",
       "    }\n",
       "\n",
       "    .dataframe tbody tr th {\n",
       "        vertical-align: top;\n",
       "    }\n",
       "\n",
       "    .dataframe thead th {\n",
       "        text-align: right;\n",
       "    }\n",
       "</style>\n",
       "<table border=\"1\" class=\"dataframe\">\n",
       "  <thead>\n",
       "    <tr style=\"text-align: right;\">\n",
       "      <th></th>\n",
       "      <th>Delivery_Time</th>\n",
       "      <th>Sorting_Time</th>\n",
       "    </tr>\n",
       "  </thead>\n",
       "  <tbody>\n",
       "    <tr>\n",
       "      <th>count</th>\n",
       "      <td>21.000000</td>\n",
       "      <td>21.000000</td>\n",
       "    </tr>\n",
       "    <tr>\n",
       "      <th>mean</th>\n",
       "      <td>2.774787</td>\n",
       "      <td>6.190476</td>\n",
       "    </tr>\n",
       "    <tr>\n",
       "      <th>std</th>\n",
       "      <td>0.318219</td>\n",
       "      <td>2.542028</td>\n",
       "    </tr>\n",
       "    <tr>\n",
       "      <th>min</th>\n",
       "      <td>2.079442</td>\n",
       "      <td>2.000000</td>\n",
       "    </tr>\n",
       "    <tr>\n",
       "      <th>25%</th>\n",
       "      <td>2.602690</td>\n",
       "      <td>4.000000</td>\n",
       "    </tr>\n",
       "    <tr>\n",
       "      <th>50%</th>\n",
       "      <td>2.880882</td>\n",
       "      <td>6.000000</td>\n",
       "    </tr>\n",
       "    <tr>\n",
       "      <th>75%</th>\n",
       "      <td>2.983153</td>\n",
       "      <td>8.000000</td>\n",
       "    </tr>\n",
       "    <tr>\n",
       "      <th>max</th>\n",
       "      <td>3.367296</td>\n",
       "      <td>10.000000</td>\n",
       "    </tr>\n",
       "  </tbody>\n",
       "</table>\n",
       "</div>"
      ],
      "text/plain": [
       "       Delivery_Time  Sorting_Time\n",
       "count      21.000000     21.000000\n",
       "mean        2.774787      6.190476\n",
       "std         0.318219      2.542028\n",
       "min         2.079442      2.000000\n",
       "25%         2.602690      4.000000\n",
       "50%         2.880882      6.000000\n",
       "75%         2.983153      8.000000\n",
       "max         3.367296     10.000000"
      ]
     },
     "execution_count": 24,
     "metadata": {},
     "output_type": "execute_result"
    }
   ],
   "source": [
    "df.describe()\n",
    "# the avg delivery time is 16.8 min, maximum time is 29 min and minimum time is 8 min."
   ]
  },
  {
   "cell_type": "code",
   "execution_count": 32,
   "id": "c5edafa3",
   "metadata": {},
   "outputs": [
    {
     "data": {
      "image/png": "[encoded data removed]",
      "text/plain": [
       "<Figure size 640x480 with 1 Axes>"
      ]
     },
     "metadata": {},
     "output_type": "display_data"
    }
   ],
   "source": [
    "sns.distplot(df[\"Delivery_Time\"])\n",
    "plt.show()\n",
    "# data is right skewed"
   ]
  },
  {
   "cell_type": "code",
   "execution_count": null,
   "id": "ccdca556",
   "metadata": {},
   "outputs": [],
   "source": [
    "sns.distplot(df[\"Sorting_Time\"])\n",
    "plt.show()\n",
    "# data is normally distribution"
   ]
  },
  {
   "cell_type": "code",
   "execution_count": null,
   "id": "6650978e",
   "metadata": {},
   "outputs": [],
   "source": [
    "df[\"Delivery_Time\"]=np.log(df[\"Delivery_Time\"])"
   ]
  },
  {
   "cell_type": "code",
   "execution_count": null,
   "id": "d91880ea",
   "metadata": {},
   "outputs": [],
   "source": [
    "sns.distplot(df[\"Delivery_Time\"])\n",
    "plt.show()\n",
    "# data become normally distributed"
   ]
  },
  {
   "cell_type": "code",
   "execution_count": null,
   "id": "2257fda0",
   "metadata": {},
   "outputs": [],
   "source": [
    "sns.boxplot(df[\"Delivery_Time\"])\n",
    "plt.show()"
   ]
  },
  {
   "cell_type": "code",
   "execution_count": null,
   "id": "1cd22ced",
   "metadata": {},
   "outputs": [],
   "source": [
    "sns.boxplot(df[\"Sorting_Time\"])\n",
    "plt.show()"
   ]
  },
  {
   "cell_type": "code",
   "execution_count": null,
   "id": "399d0897",
   "metadata": {},
   "outputs": [],
   "source": [
    "sns.scatterplot(x=df[\"Delivery_Time\"],y=df[\"Sorting_Time\"],color=\"r\")\n",
    "plt.show()"
   ]
  },
  {
   "cell_type": "code",
   "execution_count": null,
   "id": "79aa9f1a",
   "metadata": {},
   "outputs": [],
   "source": [
    "sns.heatmap(df.corr(),annot=True,fmt=\"0.02f\")\n",
    "plt.show()\n",
    "# from this graph, we can see that both columns have strong positive correlation because \n",
    "# value of correlation coefficient is 0.84 > 0.8 ."
   ]
  },
  {
   "cell_type": "code",
   "execution_count": 26,
   "id": "5b606b14",
   "metadata": {},
   "outputs": [
    {
     "data": {
      "image/png": "[encoded data removed]",
      "text/plain": [
       "<Figure size 500x500 with 6 Axes>"
      ]
     },
     "metadata": {},
     "output_type": "display_data"
    }
   ],
   "source": [
    "sns.pairplot(df)\n",
    "plt.show()"
   ]
  },
  {
   "cell_type": "code",
   "execution_count": 27,
   "id": "2e122305",
   "metadata": {},
   "outputs": [],
   "source": [
    "import statsmodels.formula.api as smf"
   ]
  },
  {
   "cell_type": "code",
   "execution_count": 29,
   "id": "332b47a2",
   "metadata": {},
   "outputs": [],
   "source": [
    "model=smf.ols(\"Sorting_Time ~ Delivery_Time\",data=df).fit()"
   ]
  },
  {
   "cell_type": "code",
   "execution_count": 30,
   "id": "1929ac66",
   "metadata": {},
   "outputs": [
    {
     "data": {
      "text/html": [
       "<table class=\"simpletable\">\n",
       "<caption>OLS Regression Results</caption>\n",
       "<tr>\n",
       "  <th>Dep. Variable:</th>      <td>Sorting_Time</td>   <th>  R-squared:         </th> <td>   0.711</td>\n",
       "</tr>\n",
       "<tr>\n",
       "  <th>Model:</th>                   <td>OLS</td>       <th>  Adj. R-squared:    </th> <td>   0.696</td>\n",
       "</tr>\n",
       "<tr>\n",
       "  <th>Method:</th>             <td>Least Squares</td>  <th>  F-statistic:       </th> <td>   46.73</td>\n",
       "</tr>\n",
       "<tr>\n",
       "  <th>Date:</th>             <td>Wed, 13 Mar 2024</td> <th>  Prob (F-statistic):</th> <td>1.59e-06</td>\n",
       "</tr>\n",
       "<tr>\n",
       "  <th>Time:</th>                 <td>19:48:23</td>     <th>  Log-Likelihood:    </th> <td> -35.846</td>\n",
       "</tr>\n",
       "<tr>\n",
       "  <th>No. Observations:</th>      <td>    21</td>      <th>  AIC:               </th> <td>   75.69</td>\n",
       "</tr>\n",
       "<tr>\n",
       "  <th>Df Residuals:</th>          <td>    19</td>      <th>  BIC:               </th> <td>   77.78</td>\n",
       "</tr>\n",
       "<tr>\n",
       "  <th>Df Model:</th>              <td>     1</td>      <th>                     </th>     <td> </td>   \n",
       "</tr>\n",
       "<tr>\n",
       "  <th>Covariance Type:</th>      <td>nonrobust</td>    <th>                     </th>     <td> </td>   \n",
       "</tr>\n",
       "</table>\n",
       "<table class=\"simpletable\">\n",
       "<tr>\n",
       "        <td></td>           <th>coef</th>     <th>std err</th>      <th>t</th>      <th>P>|t|</th>  <th>[0.025</th>    <th>0.975]</th>  \n",
       "</tr>\n",
       "<tr>\n",
       "  <th>Intercept</th>     <td>  -12.4992</td> <td>    2.751</td> <td>   -4.543</td> <td> 0.000</td> <td>  -18.257</td> <td>   -6.741</td>\n",
       "</tr>\n",
       "<tr>\n",
       "  <th>Delivery_Time</th> <td>    6.7355</td> <td>    0.985</td> <td>    6.836</td> <td> 0.000</td> <td>    4.673</td> <td>    8.798</td>\n",
       "</tr>\n",
       "</table>\n",
       "<table class=\"simpletable\">\n",
       "<tr>\n",
       "  <th>Omnibus:</th>       <td> 1.323</td> <th>  Durbin-Watson:     </th> <td>   1.202</td>\n",
       "</tr>\n",
       "<tr>\n",
       "  <th>Prob(Omnibus):</th> <td> 0.516</td> <th>  Jarque-Bera (JB):  </th> <td>   0.242</td>\n",
       "</tr>\n",
       "<tr>\n",
       "  <th>Skew:</th>          <td>-0.025</td> <th>  Prob(JB):          </th> <td>   0.886</td>\n",
       "</tr>\n",
       "<tr>\n",
       "  <th>Kurtosis:</th>      <td> 3.523</td> <th>  Cond. No.          </th> <td>    28.3</td>\n",
       "</tr>\n",
       "</table><br/><br/>Notes:<br/>[1] Standard Errors assume that the covariance matrix of the errors is correctly specified."
      ],
      "text/plain": [
       "<class 'statsmodels.iolib.summary.Summary'>\n",
       "\"\"\"\n",
       "                            OLS Regression Results                            \n",
       "==============================================================================\n",
       "Dep. Variable:           Sorting_Time   R-squared:                       0.711\n",
       "Model:                            OLS   Adj. R-squared:                  0.696\n",
       "Method:                 Least Squares   F-statistic:                     46.73\n",
       "Date:                Wed, 13 Mar 2024   Prob (F-statistic):           1.59e-06\n",
       "Time:                        19:48:23   Log-Likelihood:                -35.846\n",
       "No. Observations:                  21   AIC:                             75.69\n",
       "Df Residuals:                      19   BIC:                             77.78\n",
       "Df Model:                           1                                         \n",
       "Covariance Type:            nonrobust                                         \n",
       "=================================================================================\n",
       "                    coef    std err          t      P>|t|      [0.025      0.975]\n",
       "---------------------------------------------------------------------------------\n",
       "Intercept       -12.4992      2.751     -4.543      0.000     -18.257      -6.741\n",
       "Delivery_Time     6.7355      0.985      6.836      0.000       4.673       8.798\n",
       "==============================================================================\n",
       "Omnibus:                        1.323   Durbin-Watson:                   1.202\n",
       "Prob(Omnibus):                  0.516   Jarque-Bera (JB):                0.242\n",
       "Skew:                          -0.025   Prob(JB):                        0.886\n",
       "Kurtosis:                       3.523   Cond. No.                         28.3\n",
       "==============================================================================\n",
       "\n",
       "Notes:\n",
       "[1] Standard Errors assume that the covariance matrix of the errors is correctly specified.\n",
       "\"\"\""
      ]
     },
     "execution_count": 30,
     "metadata": {},
     "output_type": "execute_result"
    }
   ],
   "source": [
    "model.summary()\n",
    "# R-sqarred=0.711<0.85,model is not good\n",
    "# p=00<0.05 hence acceptable\n",
    "# bita-0=-12.4992 \n",
    "# bita-1=6.7355"
   ]
  },
  {
   "cell_type": "code",
   "execution_count": 31,
   "id": "8f766b36",
   "metadata": {},
   "outputs": [
    {
     "data": {
      "text/plain": [
       "0     8.007296\n",
       "1     5.031310\n",
       "2     7.593942\n",
       "3     8.906703\n",
       "4    10.181351\n",
       "dtype: float64"
      ]
     },
     "execution_count": 31,
     "metadata": {},
     "output_type": "execute_result"
    }
   ],
   "source": [
    "pred=model.predict(df[\"Delivery_Time\"])\n",
    "pred.head()"
   ]
  },
  {
   "cell_type": "code",
   "execution_count": 34,
   "id": "1aab91f8",
   "metadata": {},
   "outputs": [
    {
     "data": {
      "image/png": "[encoded data removed]",
      "text/plain": [
       "<Figure size 640x480 with 1 Axes>"
      ]
     },
     "metadata": {},
     "output_type": "display_data"
    }
   ],
   "source": [
    "plt.plot(df[\"Delivery_Time\"],pred,\"g\")\n",
    "sns.scatterplot(x=df[\"Delivery_Time\"],y=df[\"Sorting_Time\"],color=\"r\")\n",
    "plt.legend([\"predicted line\",\"observed data\"])\n",
    "plt.show()"
   ]
  },
  {
   "cell_type": "code",
   "execution_count": 36,
   "id": "e73331d1",
   "metadata": {},
   "outputs": [
    {
     "data": {
      "text/plain": [
       "-3.415689681647061"
      ]
     },
     "execution_count": 36,
     "metadata": {},
     "output_type": "execute_result"
    }
   ],
   "source": [
    "# Error calculation'\n",
    "residual=df[\"Delivery_Time\"] - pred\n",
    "np.mean(residual)"
   ]
  },
  {
   "cell_type": "code",
   "execution_count": 37,
   "id": "88c28be5",
   "metadata": {},
   "outputs": [
    {
     "data": {
      "text/plain": [
       "3.8522096366361382"
      ]
     },
     "execution_count": 37,
     "metadata": {},
     "output_type": "execute_result"
    }
   ],
   "source": [
    "residual_sqr = residual*residual\n",
    "MSE=np.mean(residual_sqr)\n",
    "RMSE=np.sqrt(MSE)\n",
    "RMSE"
   ]
  },
  {
   "cell_type": "code",
   "execution_count": null,
   "id": "66ec107e",
   "metadata": {},
   "outputs": [],
   "source": []
  }
 ],
 "metadata": {
  "kernelspec": {
   "display_name": "Python 3 (ipykernel)",
   "language": "python",
   "name": "python3"
  },
  "language_info": {
   "codemirror_mode": {
    "name": "ipython",
    "version": 3
   },
   "file_extension": ".py",
   "mimetype": "text/x-python",
   "name": "python",
   "nbconvert_exporter": "python",
   "pygments_lexer": "ipython3",
   "version": "3.10.9"
  }
 },
 "nbformat": 4,
 "nbformat_minor": 5
}
